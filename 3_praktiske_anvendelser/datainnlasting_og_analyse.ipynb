{
 "cells": [
  {
   "cell_type": "markdown",
   "metadata": {},
   "source": [
    "# Forelesning 12.10.2023: Datainnlasting og analyse"
   ]
  },
  {
   "cell_type": "markdown",
   "metadata": {},
   "source": [
    "Vi skal utforske og analysere historiske aksjedata for Apple Inc (AAPL) ved bruk av Julia programmeringsspråket. \n",
    "\n",
    "Denne forelesning tar for seg:\n",
    "\n",
    "* Datainnlasting\n",
    "* Dataanalyse\n",
    "* Data visualisering"
   ]
  },
  {
   "cell_type": "markdown",
   "metadata": {},
   "source": [
    "## Nødvendige Pakker\n",
    "\n",
    "Kjør denne koden for å installere pakkene som trengs for å kunne analysere dataen\n"
   ]
  },
  {
   "cell_type": "code",
   "execution_count": 1,
   "metadata": {},
   "outputs": [],
   "source": [
    "#using Pkg\n",
    "# Pkg.add(\"CSV\")\n",
    "# Pkg.add(\"DataFrames\")\n",
    "\n",
    "# Innebygde pakker vi skal bruke\n",
    "# using Statistics\n",
    "# using Dates"
   ]
  },
  {
   "cell_type": "markdown",
   "metadata": {},
   "source": [
    "## Datafil\n",
    "\n",
    "Datafilen heter `AAPL.csv`, og inneholder aksjekursen til Apple fra 2018 til 2023. Dataen er hentet fra Yahoo Finance.\n",
    "\n",
    "Dere kan laste den ned ved å trykke på denne linken: \n",
    "\n",
    "<a href=\"AAPL.csv\" download>Trykk her!</a>"
   ]
  },
  {
   "cell_type": "markdown",
   "metadata": {},
   "source": [
    "## Laste inn data\n",
    "\n",
    "Før du kan analysere data, må du ha den tilgjengelig i et format du kan arbeide med. \n",
    "\n",
    "Heldigvis har vi den i en fil som heter `AAPL.csv`. CSV står for Comma Separated Values, og er en vanlig måte å lagre data på.\n",
    "\n",
    "Vi kan laste inn dataen ved å bruke `CSV` og `Dataframes` pakken. Man laster den ned ved å referere til filnavnet."
   ]
  },
  {
   "cell_type": "code",
   "execution_count": 2,
   "metadata": {},
   "outputs": [
    {
     "ename": "ArgumentError",
     "evalue": "ArgumentError: Package CSV not found in current path.\n- Run `import Pkg; Pkg.add(\"CSV\")` to install the CSV package.",
     "output_type": "error",
     "traceback": [
      "ArgumentError: Package CSV not found in current path.\n",
      "- Run `import Pkg; Pkg.add(\"CSV\")` to install the CSV package.\n",
      "\n",
      "Stacktrace:\n",
      "  [1] macro expansion\n",
      "    @ Base .\\loading.jl:1766 [inlined]\n",
      "  [2] macro expansion\n",
      "    @ Base .\\lock.jl:267 [inlined]\n",
      "  [3] __require(into::Module, mod::Symbol)\n",
      "    @ Base .\\loading.jl:1747\n",
      "  [4] #invoke_in_world#3\n",
      "    @ Base .\\essentials.jl:921 [inlined]\n",
      "  [5] invoke_in_world\n",
      "    @ Base .\\essentials.jl:918 [inlined]\n",
      "  [6] require(into::Module, mod::Symbol)\n",
      "    @ Base .\\loading.jl:1740\n",
      "  [7] eval\n",
      "    @ .\\boot.jl:385 [inlined]\n",
      "  [8] include_string(mapexpr::typeof(REPL.softscope), mod::Module, code::String, filename::String)\n",
      "    @ Base .\\loading.jl:2070\n",
      "  [9] #invokelatest#2\n",
      "    @ .\\essentials.jl:887 [inlined]\n",
      " [10] invokelatest\n",
      "    @ .\\essentials.jl:884 [inlined]\n",
      " [11] (::VSCodeServer.var\"#217#218\"{VSCodeServer.NotebookRunCellArguments, String})()\n",
      "    @ VSCodeServer c:\\Users\\ulfin\\.vscode\\extensions\\julialang.language-julia-1.120.2\\scripts\\packages\\VSCodeServer\\src\\serve_notebook.jl:24\n",
      " [12] withpath(f::VSCodeServer.var\"#217#218\"{VSCodeServer.NotebookRunCellArguments, String}, path::String)\n",
      "    @ VSCodeServer c:\\Users\\ulfin\\.vscode\\extensions\\julialang.language-julia-1.120.2\\scripts\\packages\\VSCodeServer\\src\\repl.jl:276\n",
      " [13] notebook_runcell_request(conn::VSCodeServer.JSONRPC.JSONRPCEndpoint{Base.PipeEndpoint, Base.PipeEndpoint}, params::VSCodeServer.NotebookRunCellArguments)\n",
      "    @ VSCodeServer c:\\Users\\ulfin\\.vscode\\extensions\\julialang.language-julia-1.120.2\\scripts\\packages\\VSCodeServer\\src\\serve_notebook.jl:13\n",
      " [14] dispatch_msg(x::VSCodeServer.JSONRPC.JSONRPCEndpoint{Base.PipeEndpoint, Base.PipeEndpoint}, dispatcher::VSCodeServer.JSONRPC.MsgDispatcher, msg::Dict{String, Any})\n",
      "    @ VSCodeServer.JSONRPC c:\\Users\\ulfin\\.vscode\\extensions\\julialang.language-julia-1.120.2\\scripts\\packages\\JSONRPC\\src\\typed.jl:67\n",
      " [15] serve_notebook(pipename::String, debugger_pipename::String, outputchannel_logger::Base.CoreLogging.SimpleLogger; error_handler::var\"#5#10\"{String})\n",
      "    @ VSCodeServer c:\\Users\\ulfin\\.vscode\\extensions\\julialang.language-julia-1.120.2\\scripts\\packages\\VSCodeServer\\src\\serve_notebook.jl:147\n",
      " [16] top-level scope\n",
      "    @ c:\\Users\\ulfin\\.vscode\\extensions\\julialang.language-julia-1.120.2\\scripts\\notebook\\notebook.jl:35"
     ]
    }
   ],
   "source": [
    "using CSV\n",
    "using DataFrames\n",
    "\n",
    "# Les inn data\n",
    "#data = CSV.File(\"AAPL.csv\") |> DataFrame # Alternativ måte å lese inn data på\n",
    "data = CSV.read(\"AAPL.csv\", DataFrame);"
   ]
  },
  {
   "cell_type": "markdown",
   "metadata": {},
   "source": [
    "### Utforske dataen"
   ]
  },
  {
   "cell_type": "markdown",
   "metadata": {},
   "source": [
    "Vi vil ofte begynne med å utforske dataen ved å se på de første radene. Dette gjør vi ved å bruke `first(data, n)` funksjonen. Hvor `data` er navnet på dataen, og `n` er antall rader vi vil se på."
   ]
  },
  {
   "cell_type": "code",
   "execution_count": 3,
   "metadata": {},
   "outputs": [
    {
     "ename": "UndefVarError",
     "evalue": "UndefVarError: `data` not defined",
     "output_type": "error",
     "traceback": [
      "UndefVarError: `data` not defined\n",
      "\n",
      "Stacktrace:\n",
      " [1] top-level scope\n",
      "   @ c:\\Users\\ulfin\\Dropbox\\Kurs_egne\\INF100\\H2024\\INF100\\3_praktiske_anvendelser\\jl_notebook_cell_df34fa98e69747e1a8f8a730347b8e2f_X12sZmlsZQ==.jl:1"
     ]
    }
   ],
   "source": [
    "first(data, 5) # Viser de første 5 radene i datasettet"
   ]
  },
  {
   "cell_type": "markdown",
   "metadata": {},
   "source": [
    "*Hva er det feltene betyr?*\n",
    "\n",
    "* Date: Datoen for børsdagen.\n",
    "* Open: Åpningsprisen for AAPL-aksjen den dagen.\n",
    "* High: Høyeste pris i løpet av dagen.\n",
    "* Low: Laveste pris i løpet av dagen.\n",
    "* Close: Sluttkursen.\n",
    "* Adj Close: Justert sluttkurs, tar hensyn til ting som utbytte, splitt osv.\n",
    "* Volume: Antall aksjer som ble omsatt den dagen."
   ]
  },
  {
   "cell_type": "markdown",
   "metadata": {},
   "source": [
    "Vi kan også se på de siste radene ved å bruke `last(data, n)` funksjonen."
   ]
  },
  {
   "cell_type": "code",
   "execution_count": 4,
   "metadata": {},
   "outputs": [
    {
     "ename": "UndefVarError",
     "evalue": "UndefVarError: `data` not defined",
     "output_type": "error",
     "traceback": [
      "UndefVarError: `data` not defined\n",
      "\n",
      "Stacktrace:\n",
      " [1] top-level scope\n",
      "   @ c:\\Users\\ulfin\\Dropbox\\Kurs_egne\\INF100\\H2024\\INF100\\3_praktiske_anvendelser\\jl_notebook_cell_df34fa98e69747e1a8f8a730347b8e2f_X15sZmlsZQ==.jl:1"
     ]
    }
   ],
   "source": [
    "last(data, 5) # Viser de siste 5 radene i datasettet"
   ]
  },
  {
   "cell_type": "markdown",
   "metadata": {},
   "source": [
    "Vi kan også se grunnleggende statistikk om dataen ved å bruke `describe(data)` funksjonen."
   ]
  },
  {
   "cell_type": "code",
   "execution_count": 5,
   "metadata": {},
   "outputs": [
    {
     "ename": "UndefVarError",
     "evalue": "UndefVarError: `describe` not defined",
     "output_type": "error",
     "traceback": [
      "UndefVarError: `describe` not defined\n",
      "\n",
      "Stacktrace:\n",
      " [1] top-level scope\n",
      "   @ c:\\Users\\ulfin\\Dropbox\\Kurs_egne\\INF100\\H2024\\INF100\\3_praktiske_anvendelser\\jl_notebook_cell_df34fa98e69747e1a8f8a730347b8e2f_X20sZmlsZQ==.jl:1"
     ]
    }
   ],
   "source": [
    "describe(data) # Viser statistikk for datasettet"
   ]
  },
  {
   "cell_type": "markdown",
   "metadata": {},
   "source": [
    "## Indeksering i DataFrames\n",
    "\n",
    "Når du jobber med DataFrames, er det viktig å forstå hvordan du kan indeksere eller \"sikte deg inn\" på spesifikke rader og kolonner. Det gir deg makt til å manipulere, analysere og forstå dine data på en effektiv måte.\n"
   ]
  },
  {
   "cell_type": "markdown",
   "metadata": {},
   "source": [
    "### Indeksering av kolonner\n",
    "\n",
    "Vi kan hente ut en kolonne ved å bruke `data[:, :kolonnenavn]` eller `data.kolonnenavn`. Å inkludere en `:` betyr at vi vil ha alle radene. Hadde vi skrevet `data[1:5, :kolonnenavn]` ville vi fått ut radene 1 til 5. Hadde vi skrevet bare `data[1, :kolonnenavn]` ville vi fått ut rad 1. Istedenfor å skrive kolonnenavn kan vi også bruke indeksen til kolonnen. F.eks. `data[:, 1]` for å få ut første kolonne.\n",
    "\n",
    "Vi kan også hente ut flere kolonner ved å bruke `data[:, [:kolonnenavn1, :kolonnenavn2]]` eller `data[:, [1, 2]]` for å hente ut første og andre kolonne."
   ]
  },
  {
   "cell_type": "code",
   "execution_count": 6,
   "metadata": {},
   "outputs": [
    {
     "ename": "UndefVarError",
     "evalue": "UndefVarError: `data` not defined",
     "output_type": "error",
     "traceback": [
      "UndefVarError: `data` not defined\n",
      "\n",
      "Stacktrace:\n",
      " [1] top-level scope\n",
      "   @ c:\\Users\\ulfin\\Dropbox\\Kurs_egne\\INF100\\H2024\\INF100\\3_praktiske_anvendelser\\jl_notebook_cell_df34fa98e69747e1a8f8a730347b8e2f_X23sZmlsZQ==.jl:1"
     ]
    }
   ],
   "source": [
    "data[:, :Close] == data.Close # Henter ut kolonnen \"Close\" fra datasettet"
   ]
  },
  {
   "cell_type": "code",
   "execution_count": 7,
   "metadata": {},
   "outputs": [
    {
     "ename": "UndefVarError",
     "evalue": "UndefVarError: `data` not defined",
     "output_type": "error",
     "traceback": [
      "UndefVarError: `data` not defined\n",
      "\n",
      "Stacktrace:\n",
      " [1] top-level scope\n",
      "   @ c:\\Users\\ulfin\\Dropbox\\Kurs_egne\\INF100\\H2024\\INF100\\3_praktiske_anvendelser\\jl_notebook_cell_df34fa98e69747e1a8f8a730347b8e2f_X24sZmlsZQ==.jl:1"
     ]
    }
   ],
   "source": [
    "data[1:5, :Close] # Henter ut de 5 første radene fra kolonnen \"Close\""
   ]
  },
  {
   "cell_type": "code",
   "execution_count": 8,
   "metadata": {},
   "outputs": [
    {
     "ename": "UndefVarError",
     "evalue": "UndefVarError: `data` not defined",
     "output_type": "error",
     "traceback": [
      "UndefVarError: `data` not defined\n",
      "\n",
      "Stacktrace:\n",
      " [1] top-level scope\n",
      "   @ c:\\Users\\ulfin\\Dropbox\\Kurs_egne\\INF100\\H2024\\INF100\\3_praktiske_anvendelser\\jl_notebook_cell_df34fa98e69747e1a8f8a730347b8e2f_X25sZmlsZQ==.jl:1"
     ]
    }
   ],
   "source": [
    "data.Close[1:5] # Henter ut de 5 første radene fra kolonnen \"Close\", men på en annen måte"
   ]
  },
  {
   "cell_type": "code",
   "execution_count": 9,
   "metadata": {},
   "outputs": [
    {
     "ename": "UndefVarError",
     "evalue": "UndefVarError: `data` not defined",
     "output_type": "error",
     "traceback": [
      "UndefVarError: `data` not defined\n",
      "\n",
      "Stacktrace:\n",
      " [1] top-level scope\n",
      "   @ c:\\Users\\ulfin\\Dropbox\\Kurs_egne\\INF100\\H2024\\INF100\\3_praktiske_anvendelser\\jl_notebook_cell_df34fa98e69747e1a8f8a730347b8e2f_X26sZmlsZQ==.jl:1"
     ]
    }
   ],
   "source": [
    "data[1, :Close] # Henter ut verdien i rad 1, kolonne \"Close\""
   ]
  },
  {
   "cell_type": "code",
   "execution_count": 10,
   "metadata": {},
   "outputs": [
    {
     "ename": "UndefVarError",
     "evalue": "UndefVarError: `data` not defined",
     "output_type": "error",
     "traceback": [
      "UndefVarError: `data` not defined\n",
      "\n",
      "Stacktrace:\n",
      " [1] top-level scope\n",
      "   @ c:\\Users\\ulfin\\Dropbox\\Kurs_egne\\INF100\\H2024\\INF100\\3_praktiske_anvendelser\\jl_notebook_cell_df34fa98e69747e1a8f8a730347b8e2f_X30sZmlsZQ==.jl:1"
     ]
    }
   ],
   "source": [
    "data[1, 5] # Henter ut verdien i rad 1, kolonne 5"
   ]
  },
  {
   "cell_type": "code",
   "execution_count": 11,
   "metadata": {},
   "outputs": [
    {
     "ename": "UndefVarError",
     "evalue": "UndefVarError: `data` not defined",
     "output_type": "error",
     "traceback": [
      "UndefVarError: `data` not defined\n",
      "\n",
      "Stacktrace:\n",
      " [1] top-level scope\n",
      "   @ c:\\Users\\ulfin\\Dropbox\\Kurs_egne\\INF100\\H2024\\INF100\\3_praktiske_anvendelser\\jl_notebook_cell_df34fa98e69747e1a8f8a730347b8e2f_X31sZmlsZQ==.jl:1"
     ]
    }
   ],
   "source": [
    "data[1, [1, 5]] # Henter ut verdien i rad 1, kolonne 1 og 5"
   ]
  },
  {
   "cell_type": "markdown",
   "metadata": {},
   "source": [
    "### Indeksering av rader\n",
    "\n",
    "Vi kan hente ut en rad ved å bruke `data[radnummer, :]`. Å inkludere en `:` betyr at vi vil ha alle kolonnene. Hadde vi skrevet `data[radnummer, 1:5]` ville vi fått ut kolonnene 1 til 5. Hadde vi skrevet bare `data[radnummer, 1]` ville vi fått ut kolonne 1."
   ]
  },
  {
   "cell_type": "markdown",
   "metadata": {},
   "source": [
    "### Filterfunksjonen `filter`\n",
    "\n",
    "Vi kan filtrere dataen ved å bruke `filter` funksjonen. Den tar inn en funksjon som argument, og returnerer alle radene som funksjonen returnerer `true` for. F.eks. `filter(x -> x > 5, [1, 2, 3, 4, 5, 6, 7, 8, 9, 10])` vil returnere `[6, 7, 8, 9, 10]`."
   ]
  },
  {
   "cell_type": "code",
   "execution_count": 12,
   "metadata": {},
   "outputs": [
    {
     "ename": "UndefVarError",
     "evalue": "UndefVarError: `data` not defined",
     "output_type": "error",
     "traceback": [
      "UndefVarError: `data` not defined\n",
      "\n",
      "Stacktrace:\n",
      " [1] top-level scope\n",
      "   @ c:\\Users\\ulfin\\Dropbox\\Kurs_egne\\INF100\\H2024\\INF100\\3_praktiske_anvendelser\\jl_notebook_cell_df34fa98e69747e1a8f8a730347b8e2f_X34sZmlsZQ==.jl:1"
     ]
    }
   ],
   "source": [
    "filter(row -> row[:Close] > 190, data) # Henter ut alle rader der verdien i kolonne \"Close\" er større enn 190"
   ]
  },
  {
   "cell_type": "markdown",
   "metadata": {},
   "source": [
    "## Dataanalyse\n",
    "\n",
    "Vi kan nå begynne å analysere dataen."
   ]
  },
  {
   "cell_type": "markdown",
   "metadata": {},
   "source": [
    "### Hva er den høyeste prisen AAPL-aksjen har hatt og når var det?"
   ]
  },
  {
   "cell_type": "code",
   "execution_count": 13,
   "metadata": {},
   "outputs": [
    {
     "ename": "UndefVarError",
     "evalue": "UndefVarError: `data` not defined",
     "output_type": "error",
     "traceback": [
      "UndefVarError: `data` not defined\n",
      "\n",
      "Stacktrace:\n",
      " [1] top-level scope\n",
      "   @ c:\\Users\\ulfin\\Dropbox\\Kurs_egne\\INF100\\H2024\\INF100\\3_praktiske_anvendelser\\jl_notebook_cell_df34fa98e69747e1a8f8a730347b8e2f_X40sZmlsZQ==.jl:2"
     ]
    }
   ],
   "source": [
    "# Hva må jeg gjøre for å få en oversikt over hvilke kolonner som finnes i datasettet?\n",
    "println(names(data))"
   ]
  },
  {
   "cell_type": "code",
   "execution_count": 14,
   "metadata": {},
   "outputs": [
    {
     "ename": "UndefVarError",
     "evalue": "UndefVarError: `data` not defined",
     "output_type": "error",
     "traceback": [
      "UndefVarError: `data` not defined\n",
      "\n",
      "Stacktrace:\n",
      " [1] top-level scope\n",
      "   @ c:\\Users\\ulfin\\Dropbox\\Kurs_egne\\INF100\\H2024\\INF100\\3_praktiske_anvendelser\\jl_notebook_cell_df34fa98e69747e1a8f8a730347b8e2f_X41sZmlsZQ==.jl:2"
     ]
    }
   ],
   "source": [
    "# Hvilken funksjon kan jeg bruke for å finne maksimum og minimum for en kolonne?\n",
    "println(maximum(data[!,:Close]))\n",
    "println(minimum(data[!, :Close]))"
   ]
  },
  {
   "cell_type": "code",
   "execution_count": 15,
   "metadata": {},
   "outputs": [
    {
     "ename": "UndefVarError",
     "evalue": "UndefVarError: `data` not defined",
     "output_type": "error",
     "traceback": [
      "UndefVarError: `data` not defined\n",
      "\n",
      "Stacktrace:\n",
      " [1] top-level scope\n",
      "   @ c:\\Users\\ulfin\\Dropbox\\Kurs_egne\\INF100\\H2024\\INF100\\3_praktiske_anvendelser\\jl_notebook_cell_df34fa98e69747e1a8f8a730347b8e2f_X42sZmlsZQ==.jl:1"
     ]
    }
   ],
   "source": [
    "println(\"Største AAPL pris: \", maximum(data[!, :Close]))\n",
    "println(\"Dato for største AAPL pris: \", data[findmax(data[!, :Close])[2], :Date]) # findmax returnerer en tuple med største verdi og indeks til denne verdien"
   ]
  },
  {
   "cell_type": "markdown",
   "metadata": {},
   "source": [
    "### Hva betyr `!`?\n",
    "\n",
    "Når du skriver `data[!, :Close]`, bruker du `!` for å signalisere at du ønsker en \"view\" av dataene, i stedet for en kopi. Dette betyr at ingen ny minneallokering skjer, og alle endringer du gjør på den returnerte kolonnen vil reflekteres i den opprinnelige DataFrame. Dette er nyttig for ytelsesårsaker.\n",
    "\n",
    "\n",
    "Uten `!`\n",
    "\n",
    "Hvis du hadde skrevet `data[:, :Close]` (merk fraværet av !), ville du fått en kopi av kolonnen. Endringer i denne kopien ville ikke ha noen effekt på den opprinnelige DataFrame.\n",
    "\n",
    "Sammendrag\n",
    "\n",
    "* `data[!, :Close]` : Returnerer en \"view\", ingen ny minneallokering, endringer reflekteres i originalen.\n",
    "* `data[:, :Close]` : Returnerer en kopi, ny minneallokering, endringer har ingen effekt på originalen.\n",
    "\n",
    "Bruk av `!` er derfor en måte å være mer effektiv på, spesielt når du jobber med store DataFrames, fordi det unngår unødvendig kopi og minneallokering."
   ]
  },
  {
   "cell_type": "markdown",
   "metadata": {},
   "source": [
    "### Eksempel: Lag en funksjon som finner gjennomsnittet for Close for et gitt tidsintervall"
   ]
  },
  {
   "cell_type": "markdown",
   "metadata": {},
   "source": [
    "**Hvilken funksjon er nyttig for å finne gjennomsnittet av en liste med tall?**\n",
    "\n",
    "Svar: `mean` - funksjonen er nyttig for å finne gjennomsnittet av en liste med tall. F.eks. `mean([1, 2, 3, 4, 5])` vil returnere `3.0`.\n",
    "\n",
    "**Hvor finner vi `mean` funksjonen i Julia?**\n",
    "\n",
    "Svar: `Statistics` pakken.\n",
    "\n",
    "**Hvordan kan vi gjøre om string til Date format?**\n",
    "\n",
    "Svar: `Date` funksjonen. Som finnes i `Dates` pakken."
   ]
  },
  {
   "cell_type": "code",
   "execution_count": 16,
   "metadata": {},
   "outputs": [],
   "source": [
    "using Statistics\n",
    "using Dates"
   ]
  },
  {
   "cell_type": "code",
   "execution_count": 17,
   "metadata": {},
   "outputs": [
    {
     "ename": "UndefVarError",
     "evalue": "UndefVarError: `DataFrame` not defined",
     "output_type": "error",
     "traceback": [
      "UndefVarError: `DataFrame` not defined\n",
      "\n",
      "Stacktrace:\n",
      " [1] top-level scope\n",
      "   @ c:\\Users\\ulfin\\Dropbox\\Kurs_egne\\INF100\\H2024\\INF100\\3_praktiske_anvendelser\\jl_notebook_cell_df34fa98e69747e1a8f8a730347b8e2f_X50sZmlsZQ==.jl:1"
     ]
    }
   ],
   "source": [
    "function calculate_average_close(data::DataFrame, start_date::String, end_date::String)\n",
    "\n",
    "    start_date = Date(start_date, \"yyyy-mm-dd\") # Konverterer startdato til Date-format\n",
    "    end_date = Date(end_date, \"yyyy-mm-dd\") # Konverterer sluttdato til Date-format\n",
    "    # Filtrerer dataen basert på datointervallet\n",
    "    filtered_data = filter(row -> start_date <= row[:Date] <= end_date, data) # <= betyr mindre enn eller lik, og her brukes det på datoer som er av typen Date \n",
    "    \n",
    "    # Sjekker om det faktisk er data i det gitte intervallet\n",
    "    if nrow(filtered_data) == 0\n",
    "        return \"Ingen data tilgjengelig for det spesifiserte datointervallet.\"\n",
    "    end\n",
    "    \n",
    "    # Beregner gjennomsnittet av 'Close'-kolonnen\n",
    "    average_close = mean(filtered_data[:, :Close])\n",
    "    \n",
    "    return average_close\n",
    "end"
   ]
  },
  {
   "cell_type": "code",
   "execution_count": 18,
   "metadata": {},
   "outputs": [
    {
     "ename": "UndefVarError",
     "evalue": "UndefVarError: `data` not defined",
     "output_type": "error",
     "traceback": [
      "UndefVarError: `data` not defined\n",
      "\n",
      "Stacktrace:\n",
      " [1] top-level scope\n",
      "   @ c:\\Users\\ulfin\\Dropbox\\Kurs_egne\\INF100\\H2024\\INF100\\3_praktiske_anvendelser\\jl_notebook_cell_df34fa98e69747e1a8f8a730347b8e2f_X51sZmlsZQ==.jl:1"
     ]
    }
   ],
   "source": [
    "calculate_average_close(data, \"2019-01-01\", \"2019-12-31\")"
   ]
  },
  {
   "cell_type": "code",
   "execution_count": 19,
   "metadata": {},
   "outputs": [
    {
     "ename": "UndefVarError",
     "evalue": "UndefVarError: `data` not defined",
     "output_type": "error",
     "traceback": [
      "UndefVarError: `data` not defined\n",
      "\n",
      "Stacktrace:\n",
      " [1] top-level scope\n",
      "   @ c:\\Users\\ulfin\\Dropbox\\Kurs_egne\\INF100\\H2024\\INF100\\3_praktiske_anvendelser\\jl_notebook_cell_df34fa98e69747e1a8f8a730347b8e2f_X52sZmlsZQ==.jl:1"
     ]
    }
   ],
   "source": [
    "calculate_average_close(data, \"2019-01-01\", \"2011-12-31\") # Ugyldig datointervall"
   ]
  },
  {
   "cell_type": "markdown",
   "metadata": {},
   "source": [
    "### Eksempel: Plot Close for AAPL"
   ]
  },
  {
   "cell_type": "code",
   "execution_count": 20,
   "metadata": {},
   "outputs": [
    {
     "ename": "UndefVarError",
     "evalue": "UndefVarError: `data` not defined",
     "output_type": "error",
     "traceback": [
      "UndefVarError: `data` not defined\n",
      "\n",
      "Stacktrace:\n",
      " [1] top-level scope\n",
      "   @ c:\\Users\\ulfin\\Dropbox\\Kurs_egne\\INF100\\H2024\\INF100\\3_praktiske_anvendelser\\jl_notebook_cell_df34fa98e69747e1a8f8a730347b8e2f_X54sZmlsZQ==.jl:3"
     ]
    }
   ],
   "source": [
    "using Plots\n",
    "\n",
    "plot(data.Date, data.Close, label=\"AAPL\", xlabel=\"Dato\", ylabel=\"Pris\", title=\"AAPL pris\", legend=:topleft)"
   ]
  },
  {
   "cell_type": "code",
   "execution_count": 21,
   "metadata": {},
   "outputs": [
    {
     "ename": "UndefVarError",
     "evalue": "UndefVarError: `data` not defined",
     "output_type": "error",
     "traceback": [
      "UndefVarError: `data` not defined\n",
      "\n",
      "Stacktrace:\n",
      " [1] top-level scope\n",
      "   @ c:\\Users\\ulfin\\Dropbox\\Kurs_egne\\INF100\\H2024\\INF100\\3_praktiske_anvendelser\\jl_notebook_cell_df34fa98e69747e1a8f8a730347b8e2f_X55sZmlsZQ==.jl:2"
     ]
    }
   ],
   "source": [
    "# Utvide plottet med gjennomsnittsprisen for 2019\n",
    "plot!(data.Date, fill!(zeros(length(data.Date)), calculate_average_close(data, \"2019-01-01\", \"2019-12-31\")), label=\"Gjennomsnittspris\")"
   ]
  },
  {
   "cell_type": "code",
   "execution_count": 22,
   "metadata": {},
   "outputs": [
    {
     "ename": "UndefVarError",
     "evalue": "UndefVarError: `DataFrame` not defined",
     "output_type": "error",
     "traceback": [
      "UndefVarError: `DataFrame` not defined\n",
      "\n",
      "Stacktrace:\n",
      " [1] top-level scope\n",
      "   @ c:\\Users\\ulfin\\Dropbox\\Kurs_egne\\INF100\\H2024\\INF100\\3_praktiske_anvendelser\\jl_notebook_cell_df34fa98e69747e1a8f8a730347b8e2f_X56sZmlsZQ==.jl:4"
     ]
    }
   ],
   "source": [
    "# Utvide plotet med punkter for maksimumprisene for hvert år\n",
    "\n",
    "# Funksjon som finner maksimumsprisen for et gitt år\n",
    "function find_max_price_for_year(data::DataFrame, year::Int64)\n",
    "    # Filtrerer dataen basert på år\n",
    "    filtered_data = filter(row -> Dates.year(row[:Date]) == year, data)\n",
    "    \n",
    "    # Sjekker om det faktisk er data i det gitte intervallet\n",
    "    if nrow(filtered_data) == 0\n",
    "        return \"Ingen data tilgjengelig for det spesifiserte datointervallet.\"\n",
    "    end\n",
    "    \n",
    "    # Returnerer maksimumsprisen for det gitte året\n",
    "    return maximum(filtered_data[!, :Close])\n",
    "end\n",
    "\n",
    "# Plotte maksimumprisen for 2019 som et punkt\n",
    "scatter!([Date(\"2019-12-31\")], [find_max_price_for_year(data, 2019)], label=\"Maksimumspris 2019\")"
   ]
  },
  {
   "cell_type": "markdown",
   "metadata": {},
   "source": [
    "#### Avansert Plotting"
   ]
  },
  {
   "cell_type": "code",
   "execution_count": 23,
   "metadata": {},
   "outputs": [
    {
     "ename": "UndefVarError",
     "evalue": "UndefVarError: `data` not defined",
     "output_type": "error",
     "traceback": [
      "UndefVarError: `data` not defined\n",
      "\n",
      "Stacktrace:\n",
      " [1] top-level scope\n",
      "   @ C:\\Users\\ulfin\\.julia\\packages\\Plots\\tDHxD\\src\\animation.jl:251"
     ]
    }
   ],
   "source": [
    "# Initiere en animasjon\n",
    "anim = @animate for i in 1:20:length(data[!, :Close])\n",
    "    plot(data[1:i, :Date], data[1:i, :Close], label=\"Close Price\", linewidth=2)\n",
    "    title!(\"AAPL Close Price Over Time\")\n",
    "    xlabel!(\"Date\")\n",
    "    ylabel!(\"Close Price\")\n",
    "    ylims!(minimum(data[!, :Close]) * 0.9, maximum(data[!, :Close]) * 1.1)\n",
    "end\n",
    "\n",
    "# Lagre som en GIF\n",
    "gif(anim, \"aapl_close_price.gif\", fps=24);"
   ]
  },
  {
   "cell_type": "markdown",
   "metadata": {},
   "source": [
    "<img src=\"aapl_close_price.gif\" alt=\"Animated plot of AAPL Close Prices\" width=\"600\"/>\n"
   ]
  },
  {
   "cell_type": "markdown",
   "metadata": {},
   "source": [
    "### Eksempel: Hvis du hadde investert $1000 i AAPL i starten av dette datasettet, hvor mye ville du hatt nå?"
   ]
  },
  {
   "cell_type": "code",
   "execution_count": 24,
   "metadata": {},
   "outputs": [
    {
     "ename": "UndefVarError",
     "evalue": "UndefVarError: `data` not defined",
     "output_type": "error",
     "traceback": [
      "UndefVarError: `data` not defined\n",
      "\n",
      "Stacktrace:\n",
      " [1] top-level scope\n",
      "   @ c:\\Users\\ulfin\\Dropbox\\Kurs_egne\\INF100\\H2024\\INF100\\3_praktiske_anvendelser\\jl_notebook_cell_df34fa98e69747e1a8f8a730347b8e2f_X64sZmlsZQ==.jl:3"
     ]
    }
   ],
   "source": [
    "start_investering = 1000;\n",
    "\n",
    "første_close_pris = data.Close[1]\n",
    "siste_close_pris = data.Close[end]\n",
    "\n",
    "endelig_verdi = (siste_close_pris / første_close_pris) * start_investering\n",
    "println(\"Verdien av din investering nå: $endelig_verdi\")\n"
   ]
  },
  {
   "cell_type": "markdown",
   "metadata": {},
   "source": [
    "## Bonus: Enkel Maskinlæring (Statistikk)"
   ]
  },
  {
   "cell_type": "code",
   "execution_count": 25,
   "metadata": {},
   "outputs": [],
   "source": [
    "using Random\n",
    "Random.seed!(42); # Setter seed for å få samme tilfeldige tall hver gang"
   ]
  },
  {
   "cell_type": "code",
   "execution_count": 26,
   "metadata": {},
   "outputs": [
    {
     "ename": "ArgumentError",
     "evalue": "ArgumentError: Package GLM not found in current path.\n- Run `import Pkg; Pkg.add(\"GLM\")` to install the GLM package.",
     "output_type": "error",
     "traceback": [
      "ArgumentError: Package GLM not found in current path.\n",
      "- Run `import Pkg; Pkg.add(\"GLM\")` to install the GLM package.\n",
      "\n",
      "Stacktrace:\n",
      "  [1] macro expansion\n",
      "    @ Base .\\loading.jl:1766 [inlined]\n",
      "  [2] macro expansion\n",
      "    @ Base .\\lock.jl:267 [inlined]\n",
      "  [3] __require(into::Module, mod::Symbol)\n",
      "    @ Base .\\loading.jl:1747\n",
      "  [4] #invoke_in_world#3\n",
      "    @ Base .\\essentials.jl:921 [inlined]\n",
      "  [5] invoke_in_world\n",
      "    @ Base .\\essentials.jl:918 [inlined]\n",
      "  [6] require(into::Module, mod::Symbol)\n",
      "    @ Base .\\loading.jl:1740\n",
      "  [7] eval\n",
      "    @ .\\boot.jl:385 [inlined]\n",
      "  [8] include_string(mapexpr::typeof(REPL.softscope), mod::Module, code::String, filename::String)\n",
      "    @ Base .\\loading.jl:2070\n",
      "  [9] #invokelatest#2\n",
      "    @ .\\essentials.jl:887 [inlined]\n",
      " [10] invokelatest\n",
      "    @ .\\essentials.jl:884 [inlined]\n",
      " [11] (::VSCodeServer.var\"#217#218\"{VSCodeServer.NotebookRunCellArguments, String})()\n",
      "    @ VSCodeServer c:\\Users\\ulfin\\.vscode\\extensions\\julialang.language-julia-1.120.2\\scripts\\packages\\VSCodeServer\\src\\serve_notebook.jl:24\n",
      " [12] withpath(f::VSCodeServer.var\"#217#218\"{VSCodeServer.NotebookRunCellArguments, String}, path::String)\n",
      "    @ VSCodeServer c:\\Users\\ulfin\\.vscode\\extensions\\julialang.language-julia-1.120.2\\scripts\\packages\\VSCodeServer\\src\\repl.jl:276\n",
      " [13] notebook_runcell_request(conn::VSCodeServer.JSONRPC.JSONRPCEndpoint{Base.PipeEndpoint, Base.PipeEndpoint}, params::VSCodeServer.NotebookRunCellArguments)\n",
      "    @ VSCodeServer c:\\Users\\ulfin\\.vscode\\extensions\\julialang.language-julia-1.120.2\\scripts\\packages\\VSCodeServer\\src\\serve_notebook.jl:13\n",
      " [14] dispatch_msg(x::VSCodeServer.JSONRPC.JSONRPCEndpoint{Base.PipeEndpoint, Base.PipeEndpoint}, dispatcher::VSCodeServer.JSONRPC.MsgDispatcher, msg::Dict{String, Any})\n",
      "    @ VSCodeServer.JSONRPC c:\\Users\\ulfin\\.vscode\\extensions\\julialang.language-julia-1.120.2\\scripts\\packages\\JSONRPC\\src\\typed.jl:67\n",
      " [15] serve_notebook(pipename::String, debugger_pipename::String, outputchannel_logger::Base.CoreLogging.SimpleLogger; error_handler::var\"#5#10\"{String})\n",
      "    @ VSCodeServer c:\\Users\\ulfin\\.vscode\\extensions\\julialang.language-julia-1.120.2\\scripts\\packages\\VSCodeServer\\src\\serve_notebook.jl:147\n",
      " [16] top-level scope\n",
      "    @ c:\\Users\\ulfin\\.vscode\\extensions\\julialang.language-julia-1.120.2\\scripts\\notebook\\notebook.jl:35"
     ]
    }
   ],
   "source": [
    "# using Pkg\n",
    "# Pkg.add(\"GLM\") # Installerer pakken GLM som vi skal bruke til å lage lineær regresjon modell \n",
    "using GLM"
   ]
  },
  {
   "cell_type": "code",
   "execution_count": 27,
   "metadata": {},
   "outputs": [
    {
     "ename": "UndefVarError",
     "evalue": "UndefVarError: `data` not defined",
     "output_type": "error",
     "traceback": [
      "UndefVarError: `data` not defined\n",
      "\n",
      "Stacktrace:\n",
      " [1] top-level scope\n",
      "   @ c:\\Users\\ulfin\\Dropbox\\Kurs_egne\\INF100\\H2024\\INF100\\3_praktiske_anvendelser\\jl_notebook_cell_df34fa98e69747e1a8f8a730347b8e2f_Y101sZmlsZQ==.jl:1"
     ]
    }
   ],
   "source": [
    "n = size(data, 1)\n",
    "train_indices = randsubseq(1:n, 0.8)\n",
    "test_indices = setdiff(1:n, train_indices)\n",
    "\n",
    "train_data = data[train_indices, :]; \n",
    "test_data = data[test_indices, :];\n",
    "\n",
    "# Vi deler opp dataen i treningsdata og testdata basert på indeksene vi har laget over fordi vi ønsker å bruke 80% av dataen til trening og 20% til testing av modellen vår"
   ]
  },
  {
   "cell_type": "code",
   "execution_count": 28,
   "metadata": {},
   "outputs": [
    {
     "ename": "LoadError",
     "evalue": "LoadError: UndefVarError: `@formula` not defined\nin expression starting at c:\\Users\\ulfin\\Dropbox\\Kurs_egne\\INF100\\H2024\\INF100\\3_praktiske_anvendelser\\jl_notebook_cell_df34fa98e69747e1a8f8a730347b8e2f_Y102sZmlsZQ==.jl:1",
     "output_type": "error",
     "traceback": [
      "LoadError: UndefVarError: `@formula` not defined\n",
      "in expression starting at c:\\Users\\ulfin\\Dropbox\\Kurs_egne\\INF100\\H2024\\INF100\\3_praktiske_anvendelser\\jl_notebook_cell_df34fa98e69747e1a8f8a730347b8e2f_Y102sZmlsZQ==.jl:1\n"
     ]
    }
   ],
   "source": [
    "model = lm(@formula(Close ~ Open + High + Low), train_data) # Lager en lineær regresjonsmodell med variablene Open, High og Low som prediktorer og Close som responsvariabel"
   ]
  },
  {
   "cell_type": "code",
   "execution_count": 29,
   "metadata": {},
   "outputs": [
    {
     "ename": "UndefVarError",
     "evalue": "UndefVarError: `predict` not defined",
     "output_type": "error",
     "traceback": [
      "UndefVarError: `predict` not defined\n",
      "\n",
      "Stacktrace:\n",
      " [1] top-level scope\n",
      "   @ c:\\Users\\ulfin\\Dropbox\\Kurs_egne\\INF100\\H2024\\INF100\\3_praktiske_anvendelser\\jl_notebook_cell_df34fa98e69747e1a8f8a730347b8e2f_Y103sZmlsZQ==.jl:1"
     ]
    }
   ],
   "source": [
    "predicted = predict(model, test_data)\n",
    "actual = test_data[:, :Close]\n",
    "error = sqrt(mean((predicted .- actual).^2))"
   ]
  },
  {
   "cell_type": "code",
   "execution_count": 30,
   "metadata": {},
   "outputs": [
    {
     "ename": "UndefVarError",
     "evalue": "UndefVarError: `predicted` not defined",
     "output_type": "error",
     "traceback": [
      "UndefVarError: `predicted` not defined\n",
      "\n",
      "Stacktrace:\n",
      " [1] top-level scope\n",
      "   @ c:\\Users\\ulfin\\Dropbox\\Kurs_egne\\INF100\\H2024\\INF100\\3_praktiske_anvendelser\\jl_notebook_cell_df34fa98e69747e1a8f8a730347b8e2f_Y104sZmlsZQ==.jl:3"
     ]
    }
   ],
   "source": [
    "using Plots\n",
    "\n",
    "plot(1:length(predicted), [predicted, actual], label=[\"Predicted\" \"Actual\"], lw=2)\n"
   ]
  }
 ],
 "metadata": {
  "kernelspec": {
   "display_name": "Julia 1.10.0",
   "language": "julia",
   "name": "julia-1.10"
  },
  "language_info": {
   "file_extension": ".jl",
   "mimetype": "application/julia",
   "name": "julia",
   "version": "1.10.0"
  },
  "orig_nbformat": 4
 },
 "nbformat": 4,
 "nbformat_minor": 2
}
