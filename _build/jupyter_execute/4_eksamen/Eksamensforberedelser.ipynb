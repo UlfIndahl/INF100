{
 "cells": [
  {
   "cell_type": "markdown",
   "id": "7856c2ff",
   "metadata": {},
   "source": [
    "# Eksamensforberedelser\n",
    "\n",
    "Denne siden vil inneholde informasjon om eksamen, og hvordan du kan forberede deg til den.\n",
    "\n",
    "## Praktisk informasjon\n",
    "\n",
    "Eksamenen vil bli avholdt **18. Desember 2023**. Eksamenen skal være skriftlig og vil vare i 3 timer. Hjelpemidler på eksamen er tillatt, dette innebærer kalkulator og alle skriftlige hjelpemidler. Det vil ikke være tillatt å kommunisere med andre under eksamen. Alle hjelpemidler må være fysiske, det vil si at det ikke er tillatt å bruke internett eller andre digitale hjelpemidler. Jeg anbefaler alle å lage seg en cheat-sheet som inneholder det du synes er vanskeligst, og som du kan bruke under eksamen. \n",
    "\n",
    "For å kunne ta eksamen må du ha bestått begge obligatoriske innleveringer. \n",
    "\n",
    "## Tidligere Eksamener\n",
    "\n",
    "Tidligere eksamener med løsningsforslag kan finnes på canvas. Bemerk at tidligere eksamener er basert på at kurset ble gitt i MATLAB, og at det kan være forskjeller i hvordan oppgavene blir stilt i Julia. Løsningsforslagene er skrevet i MATLAB kode, men kan fortsatt være nyttige å se på for å få en forståelse av hvordan oppgavene kan løses. \n",
    "\n",
    "I tillegg har tidligere eksamener blitt gitt til REALTEK studenter, så det kan være avvik i pensum. Pensum i år er alt som står på denne nettsiden, og det som er blitt gjennomgått i forelesningene.\n",
    "\n",
    "## Prøveeksamen\n",
    "\n",
    "Det vil bli gitt ut to prøveeksamener som jeg anbefaler at dere løser for hånd. Det vil også bli gitt ut løsningsforslag til disse prøveeksamenene, en uke etter at de er gitt ut.\n",
    "\n",
    "* [Første Prøveeksamen](https://nmbu.instructure.com/files/1998709/download?download_frd=1)\n",
    "\n",
    "* [Andre Prøveeksamen](https://nmbu.instructure.com/files/2012095/download?download_frd=1)\n",
    "\n",
    "## Cheat-sheet (Oppsummeringsark)\n",
    "\n",
    "Her er et oppsummeringsark som kan brukes under eksamen. Dette er ikke et offisielt oppsummeringsark, og det er ikke garantert at alt som står her er riktig. Det er derfor viktig at du går gjennom dette arket og sjekker at alt er riktig. Dere må heller ikke ta det med på eksamen, men det er sterkt anbefalt:\n",
    "\n",
    "**[Oppsummeringsark](https://nmbu.instructure.com/files/2007985/download?download_frd=1)**\n",
    "\n",
    "Tips til å lage ditt eget cheat-sheet:\n",
    "* Skriv ned forskjellige typer og eksempler av typer, altså float = 1.0, int = 1, string = \"1\", osv.\n",
    "* Skriv ned innebygde funksjoner som du synes er vanskelig å huske, og hvordan de brukes.\n",
    "* Skriv ned hvordan du kan lage matriser og vektorer, og hvordan du kan hente ut elementer fra disse.\n",
    "* Skriv ned hvordan du kan lage funksjoner, og hvordan du bruker funksjonene\n",
    "* Skriv ned de forskjellige løkke- og if-setningene, og hvordan de brukes.\n",
    "* Skriv ned hvordan du kan lage plot, og hvordan du kan endre på disse.\n",
    "* Skriv ned nullpunktsmetodene og hvordan de brukes.\n",
    "* Skriv ned integrasjonsmetodene og hvordan de brukes.\n",
    "* Skriv ned noen eksempler som bruker DataFrames og CSV pakkene."
   ]
  }
 ],
 "metadata": {
  "jupytext": {
   "formats": "md:myst",
   "text_representation": {
    "extension": ".md",
    "format_name": "myst",
    "format_version": 0.13,
    "jupytext_version": "1.11.5"
   }
  },
  "kernelspec": {
   "display_name": "Julia 1.10.0",
   "language": "julia",
   "name": "julia-1.10"
  },
  "language_info": {
   "file_extension": ".jl",
   "mimetype": "application/julia",
   "name": "julia",
   "version": "1.10.0"
  },
  "source_map": [
   13
  ]
 },
 "nbformat": 4,
 "nbformat_minor": 5
}