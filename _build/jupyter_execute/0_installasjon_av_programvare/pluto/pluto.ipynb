{
 "cells": [
  {
   "cell_type": "markdown",
   "id": "67df7400",
   "metadata": {},
   "source": [
    "# Introduksjon til Pluto Notebooks i Julia\n",
    "\n",
    "Velkommen til en grunnleggende guide om hvordan du bruker Pluto notebooks i Julia via VSCode!\n",
    "\n",
    "## Hva er Pluto?\n",
    "\n",
    "Pluto er en interaktiv notebook for Julia programmeringsspråk. Med Pluto kan du skrive og kjøre Julia-kode i en interaktiv stil, noe som gjør det enkelt å eksperimentere, visualisere data og dele resultater.\n",
    "\n",
    "## Hvorfor Pluto i dette faget?\n",
    "\n",
    "- **Interaktivitet**: Pluto lar deg kjøre kodeblokker individuelt, noe som gir umiddelbar tilbakemelding.\n",
    "- **Visualisering**: Enkelt å lage og vise grafer og data.\n",
    "- **Dokumentasjon**: Kombiner kode, resultater og tekst i ett dokument.\n",
    "\n",
    "## Sjekk om du har Pluto installert\n",
    "\n",
    "Selv om du kanskje allerede har installert Pluto, la oss sørge for at alt er på plass:\n",
    "\n",
    "1. Åpne VSCode.\n",
    "2. Start Julia terminalen ved å trykke `Ctrl+J` og deretter `Ctrl+O` (for Windows) eller `Cmd+J` og deretter `Cmd+O` (for Mac).\n",
    "3. Skriv inn følgende kommando:\n",
    "\n",
    "```julia\n",
    "using Pkg\n",
    "Pkg.installed()[\"Pluto\"]\n",
    "```\n",
    "\n",
    "Hvis du får en versjonsnummer tilbake, betyr det at Pluto er installert. Hvis ikke, følg neste trinn.\n",
    "\n",
    "```julia\n",
    "using Pkg\n",
    "Pkg.add(\"Pluto\") # Bemerk at add er med en liten a, alt er case-sensitivt.\n",
    "```\n",
    "\n",
    "## Starte Pluto fra VSCode\n",
    "\n",
    "1. I Julia terminalen i VSCode, skriv:\n",
    "\n",
    "```julia\n",
    "using Pluto\n",
    "Pluto.run()\n",
    "```\n",
    "\n",
    "Dette vil starte Pluto serveren, og en nettleserfane skal åpne med Pluto-grensesnittet."
   ]
  }
 ],
 "metadata": {
  "jupytext": {
   "formats": "md:myst",
   "text_representation": {
    "extension": ".md",
    "format_name": "myst",
    "format_version": 0.13,
    "jupytext_version": "1.11.5"
   }
  },
  "language_info": {
   "codemirror_mode": {
    "name": "ipython",
    "version": 3
   },
   "file_extension": ".py",
   "mimetype": "text/x-python",
   "name": "python",
   "nbconvert_exporter": "python",
   "pygments_lexer": "ipython3",
   "version": "3.10.9"
  },
  "source_map": [
   9
  ]
 },
 "nbformat": 4,
 "nbformat_minor": 5
}