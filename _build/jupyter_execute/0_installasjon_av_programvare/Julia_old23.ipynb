{
 "cells": [
  {
   "cell_type": "markdown",
   "id": "148d3bba",
   "metadata": {},
   "source": [
    "# Installasjon av Julia på din personlige PC\n",
    "\n",
    "Denne guiden vil hjelpe deg med å installere Julia på din PC, enten du bruker Windows eller Mac.\n",
    "\n",
    "## Før du starter\n",
    "\n",
    "Før du begynner installasjonen, er det viktig å vite hvilken type datamaskin du har. Hvis du bruker en Mac, må du finne ut om den er basert på Apple Silicon eller Intel.\n",
    "\n",
    "### Hvordan sjekke om din Mac er basert på Apple Silicon eller Intel:\n",
    "\n",
    "1. Klikk på Apple-ikonet øverst til venstre på skjermen.\n",
    "2. Velg \"Om denne Macen\".\n",
    "3. Under \"Oversikt\" vil du se en \"Prosessor\" eller \"Chip\"-detalj. Hvis det står \"Intel\", har du en Intel-basert Mac. Hvis det står \"Apple M1\" eller lignende, har du en Apple Silicon-basert Mac.\n",
    "\n",
    "```{image} ../images/m1mac.png\n",
    ":alt: m1mac\n",
    ":class: bg-primary mb-1\n",
    ":width: 400px\n",
    ":align: center\n",
    "```\n",
    "\n",
    "## Installasjon på Windows\n",
    "\n",
    "1. Gå til Julia's offisielle nedlastingsside: [Julia Downloads](https://julialang.org/downloads/)\n",
    "2. Under \"Current stable release\" klikk på \"Windows\" og last ned den anbefalte versjonen for ditt system (vanligvis 64-bit). \n",
    "\n",
    "```{image} ../images/julia_windows_64bit.png\n",
    ":alt: julia_windows64bit\n",
    ":class: bg-primary mb-1\n",
    ":width: 400px\n",
    ":align: center\n",
    "```\n",
    "3. Åpne den nedlastede filen og følg instruksjonene på skjermen for å installere Julia.\n",
    "\n",
    "<div style=\"display: flex; justify-content: space-between;\">\n",
    "\n",
    "```{image} ../images/julia_installason_windows_0.png\n",
    ":alt: julia_windows_0\n",
    ":class: bg-primary mb-1\n",
    ":width: 400px\n",
    ":align: left\n",
    "```\n",
    "\n",
    "```{image} ../images/julia_installasjon_windows_1.png\n",
    ":alt: julia_windows_1\n",
    ":class: bg-primary mb-1\n",
    ":width: 400px\n",
    ":align: right\n",
    "```\n",
    "</div>\n",
    "\n",
    "\n",
    "## Installasjon på Mac (Intel)\n",
    "\n",
    "1. Gå til Julia's offisielle nedlastingsside: [Julia Downloads](https://julialang.org/downloads/)\n",
    "2. Under \"Current stable release\" klikk på \"macOS\" og last ned den anbefalte versjonen for Intel Macs.\n",
    "3. Åpne den nedlastede .dmg-filen.\n",
    "4. Dra Julia-ikonet til Applications-mappen.\n",
    "\n",
    "## Installasjon på Mac (Apple Silicon)\n",
    "\n",
    "1. Gå til Julia's offisielle nedlastingsside: [Julia Downloads](https://julialang.org/downloads/)\n",
    "2. Under \"Current stable release\" klikk på \"macOS\" og last ned den anbefalte versjonen for Apple Silicon Macs.\n",
    "3. Åpne den nedlastede .dmg-filen.\n",
    "4. Dra Julia-ikonet til Applications-mappen.\n",
    "\n",
    "## Etter installasjon\n",
    "\n",
    "Når du har installert Julia, kan du starte programmet fra startmenyen (Windows) eller Applications-mappen (Mac). Du må også følge guiden for å installere Visual Studio Code og Julia Extensionen.\n",
    "\n",
    "Etter å ha startet programmet må du skrive inn følgende kode for å installere pakkene MAT og Pluto: \n",
    "\n",
    "** Husk å trykk enter**"
   ]
  },
  {
   "cell_type": "code",
   "execution_count": 1,
   "id": "cc0ff26d",
   "metadata": {
    "tags": [
     "remove-output"
    ]
   },
   "outputs": [
    {
     "name": "stderr",
     "output_type": "stream",
     "text": [
      "\u001b[32m\u001b[1m   Resolving\u001b[22m\u001b[39m package versions..."
     ]
    },
    {
     "name": "stderr",
     "output_type": "stream",
     "text": [
      "\n"
     ]
    },
    {
     "name": "stderr",
     "output_type": "stream",
     "text": [
      "\u001b[32m\u001b[1m  No Changes\u001b[22m\u001b[39m to `C:\\Users\\ulfin\\.julia\\environments\\v1.10\\Project.toml`\n",
      "\u001b[32m\u001b[1m  No Changes\u001b[22m\u001b[39m to `C:\\Users\\ulfin\\.julia\\environments\\v1.10\\Manifest.toml`\n"
     ]
    },
    {
     "name": "stderr",
     "output_type": "stream",
     "text": [
      "\u001b[32m\u001b[1mPrecompiling\u001b[22m\u001b[39m project..."
     ]
    },
    {
     "name": "stderr",
     "output_type": "stream",
     "text": [
      "\n"
     ]
    },
    {
     "name": "stderr",
     "output_type": "stream",
     "text": [
      "\u001b[33m  ? \u001b[39mTing\n"
     ]
    }
   ],
   "source": [
    "using Pkg;\n",
    "Pkg.add([\"MAT\", \"Pluto\"])"
   ]
  },
  {
   "cell_type": "markdown",
   "id": "6ae5bc18",
   "metadata": {},
   "source": [
    "Lykke til med programmeringen i Julia!\n",
    "\n",
    "> HUSK: Visual Studio Code guiden må også følges!"
   ]
  }
 ],
 "metadata": {
  "jupytext": {
   "formats": "md:myst",
   "text_representation": {
    "extension": ".md",
    "format_name": "myst",
    "format_version": 0.13,
    "jupytext_version": "1.11.5"
   }
  },
  "kernelspec": {
   "display_name": "Julia 1.10.0",
   "language": "julia",
   "name": "julia-1.10"
  },
  "language_info": {
   "file_extension": ".jl",
   "mimetype": "application/julia",
   "name": "julia",
   "version": "1.10.0"
  },
  "source_map": [
   13,
   89,
   93
  ]
 },
 "nbformat": 4,
 "nbformat_minor": 5
}