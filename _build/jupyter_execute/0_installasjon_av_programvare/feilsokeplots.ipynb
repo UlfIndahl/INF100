{
 "cells": [
  {
   "cell_type": "markdown",
   "id": "298eafcd",
   "metadata": {},
   "source": [
    "# Feilsøking av Plots pakken i Julia\n",
    "\n",
    "Det er flere som opplever problemer med Plots pakken i Julia, her er noen løsninger du kan prøve:\n",
    "\n",
    "## 1. Oppdatering av Plots pakken"
   ]
  },
  {
   "cell_type": "code",
   "execution_count": 1,
   "id": "d0d87499",
   "metadata": {
    "tags": [
     "remove-output"
    ]
   },
   "outputs": [
    {
     "name": "stderr",
     "output_type": "stream",
     "text": [
      "\u001b[32m\u001b[1m    Updating\u001b[22m\u001b[39m registry at `C:\\Users\\amira\\.julia\\registries\\General.toml`\n"
     ]
    },
    {
     "name": "stderr",
     "output_type": "stream",
     "text": [
      "\u001b[32m\u001b[1m    Updating\u001b[22m\u001b[39m git-repo `https://github.com/JuliaPlots/Plots.jl.git`"
     ]
    },
    {
     "name": "stderr",
     "output_type": "stream",
     "text": [
      "\n"
     ]
    },
    {
     "name": "stderr",
     "output_type": "stream",
     "text": [
      "\u001b[32m\u001b[1m    Updating\u001b[22m\u001b[39m `C:\\Users\\amira\\.julia\\environments\\v1.9\\Project.toml`\n",
      "  \u001b[90m[91a5bcdd] \u001b[39m\u001b[93m~ Plots v1.39.0-dev `https://github.com/JuliaPlots/Plots.jl.git#master` ⇒ v1.39.0-dev `https://github.com/JuliaPlots/Plots.jl.git#master`\u001b[39m\n",
      "\u001b[32m\u001b[1m    Updating\u001b[22m\u001b[39m `C:\\Users\\amira\\.julia\\environments\\v1.9\\Manifest.toml`"
     ]
    },
    {
     "name": "stderr",
     "output_type": "stream",
     "text": [
      "\n",
      "  \u001b[90m[91a5bcdd] \u001b[39m\u001b[93m~ Plots v1.39.0-dev `https://github.com/JuliaPlots/Plots.jl.git#master` ⇒ v1.39.0-dev `https://github.com/JuliaPlots/Plots.jl.git#master`\u001b[39m"
     ]
    },
    {
     "name": "stderr",
     "output_type": "stream",
     "text": [
      "\n"
     ]
    },
    {
     "name": "stderr",
     "output_type": "stream",
     "text": [
      "\u001b[32m\u001b[1mPrecompiling\u001b[22m\u001b[39m project...\n"
     ]
    }
   ],
   "source": [
    "using Pkg;\n",
    "Pkg.update(\"Plots\")"
   ]
  },
  {
   "cell_type": "markdown",
   "id": "c49df3c8",
   "metadata": {},
   "source": [
    "## 2. Slette Plots pakken og installere fra Github"
   ]
  },
  {
   "cell_type": "code",
   "execution_count": null,
   "id": "641f4b0f",
   "metadata": {
    "tags": [
     "remove-output"
    ]
   },
   "outputs": [],
   "source": [
    "using Pkg;\n",
    "Pkg.rm(\"Plots\")\n",
    "Pkg.pkg\"add Plots#master\""
   ]
  },
  {
   "cell_type": "markdown",
   "id": "d36fd642",
   "metadata": {},
   "source": [
    "## 3. Bruke Plotly backend i Plots"
   ]
  },
  {
   "cell_type": "code",
   "execution_count": null,
   "id": "3d2fe2bd",
   "metadata": {
    "tags": [
     "remove-output"
    ]
   },
   "outputs": [],
   "source": [
    "using Plots;\n",
    "plotly()"
   ]
  }
 ],
 "metadata": {
  "jupytext": {
   "formats": "md:myst",
   "text_representation": {
    "extension": ".md",
    "format_name": "myst",
    "format_version": 0.13,
    "jupytext_version": "1.11.5"
   }
  },
  "kernelspec": {
   "display_name": "Julia 1.9.3",
   "language": "julia",
   "name": "julia-1.9"
  },
  "language_info": {
   "file_extension": ".jl",
   "mimetype": "application/julia",
   "name": "julia",
   "version": "1.9.3"
  },
  "source_map": [
   13,
   21,
   25,
   29,
   34,
   38
  ]
 },
 "nbformat": 4,
 "nbformat_minor": 5
}