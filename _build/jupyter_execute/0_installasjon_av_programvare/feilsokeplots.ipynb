{
 "cells": [
  {
   "cell_type": "markdown",
   "id": "531db6af",
   "metadata": {},
   "source": [
    "# Feilsøking av Plots pakken i Julia\n",
    "\n",
    "Det er flere som opplever problemer med Plots pakken i Julia, her er noen løsninger du kan prøve:\n",
    "\n",
    "## 1. Oppdatering av Plots pakken"
   ]
  },
  {
   "cell_type": "code",
   "execution_count": 1,
   "id": "7e9aa102",
   "metadata": {
    "tags": [
     "remove-output"
    ]
   },
   "outputs": [
    {
     "name": "stderr",
     "output_type": "stream",
     "text": [
      "\u001b[32m\u001b[1m    Updating\u001b[22m\u001b[39m registry at `C:\\Users\\amira\\.julia\\registries\\General.toml`\n"
     ]
    },
    {
     "name": "stderr",
     "output_type": "stream",
     "text": [
      "\u001b[32m\u001b[1m    Updating\u001b[22m\u001b[39m git-repo `https://github.com/JuliaPlots/Plots.jl.git`\n"
     ]
    },
    {
     "name": "stderr",
     "output_type": "stream",
     "text": [
      "\u001b[32m\u001b[1m  No Changes\u001b[22m\u001b[39m to `C:\\Users\\amira\\.julia\\environments\\v1.9\\Project.toml`\n",
      "\u001b[32m\u001b[1m  No Changes\u001b[22m\u001b[39m to `C:\\Users\\amira\\.julia\\environments\\v1.9\\Manifest.toml`"
     ]
    },
    {
     "name": "stderr",
     "output_type": "stream",
     "text": [
      "\n"
     ]
    },
    {
     "name": "stderr",
     "output_type": "stream",
     "text": [
      "\u001b[32m\u001b[1mPrecompiling\u001b[22m\u001b[39m project..."
     ]
    },
    {
     "name": "stderr",
     "output_type": "stream",
     "text": [
      "\n"
     ]
    }
   ],
   "source": [
    "using Pkg;\n",
    "Pkg.update(\"Plots\")"
   ]
  },
  {
   "cell_type": "markdown",
   "id": "e746ef4c",
   "metadata": {},
   "source": [
    "## 2. Slette Plots pakken og installere fra Github"
   ]
  },
  {
   "cell_type": "code",
   "execution_count": null,
   "id": "f95bb9ad",
   "metadata": {
    "tags": [
     "remove-output"
    ]
   },
   "outputs": [],
   "source": [
    "using Pkg;\n",
    "Pkg.rm(\"Plots\")\n",
    "Pkg.pkg\"add Plots#master\""
   ]
  },
  {
   "cell_type": "markdown",
   "id": "cc2e848a",
   "metadata": {},
   "source": [
    "## 3. Bruke Plotly backend i Plots"
   ]
  },
  {
   "cell_type": "code",
   "execution_count": null,
   "id": "67297433",
   "metadata": {
    "tags": [
     "remove-output"
    ]
   },
   "outputs": [],
   "source": [
    "using Plots;\n",
    "plotly()"
   ]
  }
 ],
 "metadata": {
  "jupytext": {
   "formats": "md:myst",
   "text_representation": {
    "extension": ".md",
    "format_name": "myst",
    "format_version": 0.13,
    "jupytext_version": "1.11.5"
   }
  },
  "kernelspec": {
   "display_name": "Julia 1.9.3",
   "language": "julia",
   "name": "julia-1.9"
  },
  "language_info": {
   "file_extension": ".jl",
   "mimetype": "application/julia",
   "name": "julia",
   "version": "1.9.3"
  },
  "source_map": [
   13,
   21,
   25,
   29,
   34,
   38
  ]
 },
 "nbformat": 4,
 "nbformat_minor": 5
}