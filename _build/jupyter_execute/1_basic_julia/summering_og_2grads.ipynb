{
 "cells": [
  {
   "cell_type": "markdown",
   "id": "41dec4f7",
   "metadata": {},
   "source": [
    "# Summering, lister av tall, og løsning av 2. grads likninger (Forelesningen 14 sept 2023)\n",
    "I denne notatboken vil vi utforske grunnleggende konsepter i programmering ved hjelp av Julia-språket. Vi vil fokusere på summering av tall ved hjelp av FOR-løkker, arbeide med lister av tall, og til slutt løse 2. grads likninger."
   ]
  },
  {
   "cell_type": "markdown",
   "id": "7c6ba0ed",
   "metadata": {},
   "source": [
    "## Summering av tall ved hjelp av FOR-løkker\n",
    "La oss først se på hvordan vi kan summere tall fra 1 til n ved hjelp av en FOR-løkke:"
   ]
  },
  {
   "cell_type": "code",
   "execution_count": 1,
   "id": "6d12f8bc",
   "metadata": {},
   "outputs": [
    {
     "data": {
      "text/plain": [
       "105"
      ]
     },
     "execution_count": 1,
     "metadata": {},
     "output_type": "execute_result"
    }
   ],
   "source": [
    "n = 14\n",
    "summen = 0\n",
    "for i = 1:n\n",
    "    summen += i\n",
    "end\n",
    "summen"
   ]
  },
  {
   "cell_type": "markdown",
   "id": "ced6f1b2",
   "metadata": {},
   "source": [
    "Vi kan også benytte en kjent formel for å finne summen av tallene fra 1 til n, som er \\( \\frac{n(n+1)}{2} \\)."
   ]
  },
  {
   "cell_type": "code",
   "execution_count": 2,
   "id": "ade6e826",
   "metadata": {},
   "outputs": [
    {
     "data": {
      "text/plain": [
       "105.0"
      ]
     },
     "execution_count": 2,
     "metadata": {},
     "output_type": "execute_result"
    }
   ],
   "source": [
    "sjekksummen = n*(n+1)/2\n",
    "sjekksummen"
   ]
  },
  {
   "cell_type": "markdown",
   "id": "1699dfcc",
   "metadata": {},
   "source": [
    "## Arbeide med lister av tall\n",
    "I Julia kan vi enkelt generere lister (eller vektorer) av tall med likt mellomrom. La oss utforske dette:"
   ]
  },
  {
   "cell_type": "code",
   "execution_count": 3,
   "id": "6ecaf315",
   "metadata": {},
   "outputs": [
    {
     "data": {
      "text/plain": [
       "(1:10, 0:2:10, 1.0:-0.2:0.0)"
      ]
     },
     "execution_count": 3,
     "metadata": {},
     "output_type": "execute_result"
    }
   ],
   "source": [
    "l = 1:10\n",
    "l2 = 0:2:10\n",
    "l3 = 1.0:-0.2:0\n",
    "l, l2, l3"
   ]
  },
  {
   "cell_type": "markdown",
   "id": "3193c606",
   "metadata": {},
   "source": [
    "## Generere en liste med tilfeldige tall\n",
    "Julia gir oss muligheten til å generere lister med tilfeldige tall. La oss generere en liste med 60 tilfeldige tall mellom 0 og 1:"
   ]
  },
  {
   "cell_type": "code",
   "execution_count": 4,
   "id": "0bb74de1",
   "metadata": {},
   "outputs": [
    {
     "name": "stderr",
     "output_type": "stream",
     "text": [
      "\u001b[36m\u001b[1m[ \u001b[22m\u001b[39m\u001b[36m\u001b[1mInfo: \u001b[22m\u001b[39mPrecompiling Plots [91a5bcdd-55d7-5caf-9e0b-520d859cae80]\n"
     ]
    },
    {
     "ename": "LoadError",
     "evalue": "InterruptException:",
     "output_type": "error",
     "traceback": [
      "InterruptException:",
      "",
      "Stacktrace:",
      "  [1] try_yieldto(undo::typeof(Base.ensure_rescheduled))",
      "    @ Base .\\task.jl:920",
      "  [2] wait()",
      "    @ Base .\\task.jl:984",
      "  [3] wait(c::Base.GenericCondition{Base.Threads.SpinLock}; first::Bool)",
      "    @ Base .\\condition.jl:130",
      "  [4] wait",
      "    @ .\\condition.jl:125 [inlined]",
      "  [5] wait(x::Base.Process)",
      "    @ Base .\\process.jl:661",
      "  [6] success(x::Base.Process)",
      "    @ Base .\\process.jl:523",
      "  [7] compilecache(pkg::Base.PkgId, path::String, internal_stderr::IO, internal_stdout::IO, keep_loaded_modules::Bool)",
      "    @ Base .\\loading.jl:2203",
      "  [8] compilecache",
      "    @ .\\loading.jl:2167 [inlined]",
      "  [9] _require(pkg::Base.PkgId, env::String)",
      "    @ Base .\\loading.jl:1805",
      " [10] _require_prelocked(uuidkey::Base.PkgId, env::String)",
      "    @ Base .\\loading.jl:1660",
      " [11] macro expansion",
      "    @ .\\loading.jl:1648 [inlined]",
      " [12] macro expansion",
      "    @ .\\lock.jl:267 [inlined]",
      " [13] require(into::Module, mod::Symbol)",
      "    @ Base .\\loading.jl:1611"
     ]
    }
   ],
   "source": [
    "using Plots\n",
    "\n",
    "n = 60\n",
    "L = rand(n)\n",
    "plot(1:n, L, marker=:circle, legend=false, title=\"Plott av noen tilfeldige tall\", xlabel=\"verdier fra 1 til n\", ylabel=\"de n tilfeldige verdiene\", grid=true)"
   ]
  },
  {
   "cell_type": "markdown",
   "id": "9149ca0b",
   "metadata": {},
   "source": [
    "## Løse 2. grads likninger\n",
    "En 2. grads likning har formen \\( ax^2 + bx + c = 0 \\). La oss lage et program som løser slike likninger basert på verdiene av a, b, og c:"
   ]
  },
  {
   "cell_type": "code",
   "execution_count": null,
   "id": "a13abfde",
   "metadata": {},
   "outputs": [],
   "source": [
    "a = 1; b = 2; c= 1\n",
    "d = b^2 - 4*a*c\n",
    "\n",
    "if d < 0\n",
    "    println(\"Dette er et 2.grads polynom uten nullpunkter\")\n",
    "elseif d == 0\n",
    "    r1 = -b/(2*a)\n",
    "    println(\"Dette er et 2.grads polynom med et nullpunkt: \", r1)\n",
    "else\n",
    "    r1 = (-b - sqrt(d))/(2*a)\n",
    "    r2 = (-b + sqrt(d))/(2*a)\n",
    "    println(\"Dette er et 2.grads polynom med to nullpunkter: \", r1, \" og \", r2)\n",
    "end"
   ]
  },
  {
   "cell_type": "markdown",
   "id": "d565723a",
   "metadata": {},
   "source": [
    "## Oppsummering\n",
    "I denne notatboken har vi utforsket grunnleggende konsepter i programmering med Julia, inkludert summering av tall, arbeid med lister, generering av tilfeldige tall, og løsning av 2. grads likninger. Fortsett å eksperimentere med koden for å forstå konseptene dypere!"
   ]
  }
 ],
 "metadata": {
  "kernelspec": {
   "display_name": "Julia",
   "language": "julia",
   "name": "julia-1.9"
  },
  "language_info": {
   "file_extension": ".jl",
   "mimetype": "application/julia",
   "name": "julia",
   "version": "1.9.3"
  }
 },
 "nbformat": 4,
 "nbformat_minor": 5
}