{
 "cells": [
  {
   "cell_type": "markdown",
   "id": "d60e80c0",
   "metadata": {},
   "source": [
    "# Forelesning 21.09.2023"
   ]
  },
  {
   "cell_type": "markdown",
   "id": "3ddc5cd6",
   "metadata": {},
   "source": [
    "## Løsning av 2. grads likninger med Julia"
   ]
  },
  {
   "cell_type": "markdown",
   "id": "b81cc663",
   "metadata": {},
   "source": [
    "Tenk deg et polynom $ax^2+bx+c$. Hvordan finner vi røttene? La oss gå gjennom koden som løser denne likningen steg for steg."
   ]
  },
  {
   "cell_type": "code",
   "execution_count": 1,
   "id": "7c4e6d0e",
   "metadata": {},
   "outputs": [
    {
     "name": "stdout",
     "output_type": "stream",
     "text": [
      "Dette er et 2.grads polynom med to nullpunkter\n",
      "Roots: -45.224154547626725 44.224154547626725\n"
     ]
    }
   ],
   "source": [
    "a, b, c = 1, 1, -2000\n",
    "d = b^2 - 4*a*c\n",
    "\n",
    "if d < 0\n",
    "    println(\"Dette er et 2.grads polynom uten nullpunkter\")\n",
    "elseif d == 0\n",
    "    println(\"Dette er et 2.grads polynom med et nullpunkt\")\n",
    "    r1 = -b / (2 * a)\n",
    "    println(\"Root: \", r1)\n",
    "else\n",
    "    println(\"Dette er et 2.grads polynom med to nullpunkter\")\n",
    "    r1 = (-b - sqrt(d)) / (2 * a)\n",
    "    r2 = (-b + sqrt(d)) / (2 * a)\n",
    "    println(\"Roots: \", r1, \" \", r2)\n",
    "end"
   ]
  },
  {
   "cell_type": "markdown",
   "id": "53aeef01",
   "metadata": {},
   "source": [
    "### Plotting av grafen"
   ]
  },
  {
   "cell_type": "markdown",
   "id": "6b2149f5",
   "metadata": {},
   "source": [
    "Nå har vi funnet røttene, men hvordan ser grafen ut? Julia har et nyttig bibliotek som heter Plots for å visualisere dette"
   ]
  },
  {
   "cell_type": "code",
   "execution_count": 2,
   "id": "61d0c0db",
   "metadata": {},
   "outputs": [
    {
     "name": "stderr",
     "output_type": "stream",
     "text": [
      "\u001b[36m\u001b[1m[ \u001b[22m\u001b[39m\u001b[36m\u001b[1mInfo: \u001b[22m\u001b[39mPrecompiling Plots [91a5bcdd-55d7-5caf-9e0b-520d859cae80]\n"
     ]
    },
    {
     "ename": "LoadError",
     "evalue": "InterruptException:",
     "output_type": "error",
     "traceback": [
      "InterruptException:",
      "",
      "Stacktrace:",
      "  [1] try_yieldto(undo::typeof(Base.ensure_rescheduled))",
      "    @ Base .\\task.jl:920",
      "  [2] wait()",
      "    @ Base .\\task.jl:984",
      "  [3] wait(c::Base.GenericCondition{Base.Threads.SpinLock}; first::Bool)",
      "    @ Base .\\condition.jl:130",
      "  [4] wait",
      "    @ .\\condition.jl:125 [inlined]",
      "  [5] wait(x::Base.Process)",
      "    @ Base .\\process.jl:661",
      "  [6] success(x::Base.Process)",
      "    @ Base .\\process.jl:523",
      "  [7] compilecache(pkg::Base.PkgId, path::String, internal_stderr::IO, internal_stdout::IO, keep_loaded_modules::Bool)",
      "    @ Base .\\loading.jl:2203",
      "  [8] compilecache",
      "    @ .\\loading.jl:2167 [inlined]",
      "  [9] _require(pkg::Base.PkgId, env::String)",
      "    @ Base .\\loading.jl:1805",
      " [10] _require_prelocked(uuidkey::Base.PkgId, env::String)",
      "    @ Base .\\loading.jl:1660",
      " [11] macro expansion",
      "    @ .\\loading.jl:1648 [inlined]",
      " [12] macro expansion",
      "    @ .\\lock.jl:267 [inlined]",
      " [13] require(into::Module, mod::Symbol)",
      "    @ Base .\\loading.jl:1611"
     ]
    }
   ],
   "source": [
    "using Plots\n",
    "f(x) = a * x^2 + b * x + c\n",
    "\n",
    "if d > 0\n",
    "    plot_range = (min(r1,r2)-1):0.01:(max(r1,r2)+1)\n",
    "elseif d == 0\n",
    "    plot_range = (r1 - 2):0.01:(r1 + 2)\n",
    "else\n",
    "    plot_range = (-b/(2*a) - 2):0.01:(-b/(2*a) + 2)\n",
    "end\n",
    "\n",
    "plot(f, plot_range, title=\"2. grads polynom\", label=\"f(x)\")\n",
    "scatter!([r1, r2], [0, 0], label=\"Roots\")"
   ]
  },
  {
   "cell_type": "markdown",
   "id": "6c8a2a65",
   "metadata": {},
   "source": [
    "## WHILE-løkke for å finne sum > 1000"
   ]
  },
  {
   "cell_type": "markdown",
   "id": "b6a23b60",
   "metadata": {},
   "source": [
    "Noen ganger vil vi summere tallene fra 1, 2, 3, ..., opp til et visst punkt der summen blir større enn 1000. La oss se på hvordan vi kan gjøre det."
   ]
  },
  {
   "cell_type": "code",
   "execution_count": 4,
   "id": "ac2a3436",
   "metadata": {},
   "outputs": [
    {
     "name": "stdout",
     "output_type": "stream",
     "text": [
      "Minimum n: 45 Sum: 1035\n"
     ]
    }
   ],
   "source": [
    "summen, n = 0, 1\n",
    "\n",
    "while summen < 1000\n",
    "    summen += n\n",
    "    n += 1\n",
    "end\n",
    "\n",
    "n -= 1\n",
    "println(\"Minimum n: \", n, \" Sum: \", summen)"
   ]
  },
  {
   "cell_type": "markdown",
   "id": "f11140ad",
   "metadata": {},
   "source": [
    "## If-Setninger"
   ]
  },
  {
   "cell_type": "markdown",
   "id": "28b90b87",
   "metadata": {},
   "source": [
    "`if`-setninger er kraftige. De lar datamaskinen ta beslutninger. Her er et enkelt eksempel."
   ]
  },
  {
   "cell_type": "markdown",
   "id": "12df3621",
   "metadata": {},
   "source": [
    "```julia\n",
    "t = parse(Int, readline())\n",
    "\n",
    "if t < 5\n",
    "    println(\"Du oppgav et tall mindre enn 5.\")\n",
    "elseif t == 5\n",
    "    println(\"Du oppgav tallet 5.\")\n",
    "else\n",
    "    println(\"Du oppgav et tall større enn 5.\")\n",
    "end\n",
    "```"
   ]
  },
  {
   "cell_type": "markdown",
   "id": "2e78b43e",
   "metadata": {},
   "source": [
    "## Tilfeldig nummer generering og kategorisering"
   ]
  },
  {
   "cell_type": "markdown",
   "id": "983596e8",
   "metadata": {},
   "source": [
    "Her genererer vi et tilfeldig nummer og kategoriserer det som 'small', 'medium' eller 'large' basert på dets verdi."
   ]
  },
  {
   "cell_type": "code",
   "execution_count": 6,
   "id": "3b2538b2",
   "metadata": {},
   "outputs": [
    {
     "name": "stdout",
     "output_type": "stream",
     "text": [
      "  6.474812 seconds (400.00 M allocations: 7.451 GiB, 6.11% gc time)\n",
      "Small: 24997845 Medium: 50003749 Large: 24998406\n"
     ]
    }
   ],
   "source": [
    "small, medium, large = 0, 0, 0\n",
    "n = 100000000\n",
    "\n",
    "@time begin\n",
    "    for _ in 1:n\n",
    "        t = rand()\n",
    "        if t < 0.25\n",
    "            small += 1\n",
    "        elseif t > 0.75\n",
    "            large += 1\n",
    "        else\n",
    "            medium += 1\n",
    "        end\n",
    "    end\n",
    "end\n",
    "\n",
    "println(\"Small: \", small, \" Medium: \", medium, \" Large: \", large)"
   ]
  },
  {
   "cell_type": "markdown",
   "id": "7a4cd7b3",
   "metadata": {},
   "source": [
    "## Hva du bør ha lært\n",
    "\n",
    "Etter å ha gått gjennom denne forelesningen, bør dere ha fått en dypere forståelse av flere konsepter innen programmering og matematikk:\n",
    "\n",
    "1. **2. grads likninger**: Hvordan løse dem analytisk og hva diskriminanten kan fortelle oss om antall nullpunkter.\n",
    "  \n",
    "2. **Plotting**: Hvordan visualisere en matematisk funksjon ved å bruke Julia og `Plots`-biblioteket. Dette gir en intuitiv forståelse av funksjonen og dens nullpunkter.\n",
    "\n",
    "3. **Kontrollstrukturer**: Spesielt `if`- og `while`-setninger. Disse setningene gir maskinen \"beslutningsevne\", noe som er essensielt i nesten alle programmeringsoppgaver.\n",
    "\n",
    "4. **Input og Beslutningstaking**: Lært hvordan man kan ta inn en verdi fra brukeren og bruke denne informasjonen til å ta beslutninger i koden.\n",
    "\n",
    "5. **Tilfeldig Nummer Generering**: Hvordan generere tilfeldige numre og klassifisere dem i kategorier, noe som er grunnleggende i statistiske simuleringer.\n",
    "\n",
    "6. **Tidsmåling i Kode**: Intro til `@time`-makroen for å forstå ytelsen i koden, et viktig aspekt når man jobber med store datasett eller komplekse algoritmer.\n",
    "\n",
    "Forståelsen av disse grunnleggende konseptene vil legge et solid fundament for videre studier innen både matematikk og programmering. Husk, å kunne programmere er som å ha et superverktøy i verktøykassen din. Det kan du bruke til å løse en rekke problemer, både teoretiske og praktiske.\n"
   ]
  }
 ],
 "metadata": {
  "kernelspec": {
   "display_name": "Julia 1.9.3",
   "language": "julia",
   "name": "julia-1.9"
  },
  "language_info": {
   "file_extension": ".jl",
   "mimetype": "application/julia",
   "name": "julia",
   "version": "1.9.3"
  }
 },
 "nbformat": 4,
 "nbformat_minor": 5
}