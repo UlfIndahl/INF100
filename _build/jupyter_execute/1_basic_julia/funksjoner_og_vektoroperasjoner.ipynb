{
 "cells": [
  {
   "cell_type": "markdown",
   "id": "99f234ee",
   "metadata": {},
   "source": [
    "# Forelesning om Julia: Funksjoner, '.' Operatoren og Nyttige Ting"
   ]
  },
  {
   "cell_type": "markdown",
   "id": "f5854c20",
   "metadata": {},
   "source": [
    "## Del 1: Funksjoner i Julia"
   ]
  },
  {
   "cell_type": "code",
   "execution_count": 1,
   "id": "554fdb93",
   "metadata": {},
   "outputs": [
    {
     "data": {
      "text/plain": [
       "8"
      ]
     },
     "execution_count": 1,
     "metadata": {},
     "output_type": "execute_result"
    }
   ],
   "source": [
    "# Vanlig funksjonsdefinisjon\n",
    "function add(x, y)\n",
    "    return x + y\n",
    "end\n",
    "\n",
    "# Bruk av funksjonen\n",
    "add(5, 3)"
   ]
  },
  {
   "cell_type": "code",
   "execution_count": 2,
   "id": "d4cc5473",
   "metadata": {},
   "outputs": [
    {
     "data": {
      "text/plain": [
       "8"
      ]
     },
     "execution_count": 2,
     "metadata": {},
     "output_type": "execute_result"
    }
   ],
   "source": [
    "# Anonyme funksjoner\n",
    "add_anon = (x, y) -> x + y\n",
    "\n",
    "# Bruk av anonym funksjon\n",
    "add_anon(5, 3)"
   ]
  },
  {
   "cell_type": "code",
   "execution_count": 3,
   "id": "140162a2",
   "metadata": {},
   "outputs": [
    {
     "data": {
      "text/plain": [
       "8"
      ]
     },
     "execution_count": 3,
     "metadata": {},
     "output_type": "execute_result"
    }
   ],
   "source": [
    "add_oneliner(x,y) = x +y\n",
    "\n",
    "add_oneliner(5,3)"
   ]
  },
  {
   "cell_type": "markdown",
   "id": "321f1dd3",
   "metadata": {},
   "source": [
    "## Del 2: '.' Operatoren i Julia"
   ]
  },
  {
   "cell_type": "code",
   "execution_count": 4,
   "id": "0b77155e",
   "metadata": {},
   "outputs": [
    {
     "data": {
      "text/plain": [
       "4-element Vector{Int64}:\n",
       " 2\n",
       " 3\n",
       " 4\n",
       " 5"
      ]
     },
     "execution_count": 4,
     "metadata": {},
     "output_type": "execute_result"
    }
   ],
   "source": [
    "# Definere en vektor\n",
    "vec = [1, 2, 3, 4]\n",
    "\n",
    "# Bruke .+ for elementvis addering\n",
    "vec .+ 1"
   ]
  },
  {
   "cell_type": "markdown",
   "id": "2cd26d7b",
   "metadata": {},
   "source": [
    "### Når og Hvorfor Bruke '.'"
   ]
  },
  {
   "cell_type": "markdown",
   "id": "a1c7796e",
   "metadata": {},
   "source": [
    "Bruk '.' for elementvis operasjoner på vektorer og matriser. Det er optimalisert for ytelse og lar deg utføre operasjoner uten å bruke løkker.\n",
    "\n",
    "Unngå '.' hvis du ikke har behov for elementvis operasjoner, da det kan gjøre koden mindre lesbar."
   ]
  },
  {
   "cell_type": "code",
   "execution_count": 5,
   "id": "5e2b1515",
   "metadata": {},
   "outputs": [
    {
     "data": {
      "text/plain": [
       "4-element Vector{Int64}:\n",
       " 5\n",
       " 6\n",
       " 7\n",
       " 8"
      ]
     },
     "execution_count": 5,
     "metadata": {},
     "output_type": "execute_result"
    }
   ],
   "source": [
    "vec2 = [5, 6, 7, 8]"
   ]
  },
  {
   "cell_type": "code",
   "execution_count": 6,
   "id": "70bf71bf",
   "metadata": {},
   "outputs": [
    {
     "data": {
      "text/plain": [
       "4-element Vector{Int64}:\n",
       "  6\n",
       "  8\n",
       " 10\n",
       " 12"
      ]
     },
     "execution_count": 6,
     "metadata": {},
     "output_type": "execute_result"
    }
   ],
   "source": [
    "vec .+ vec2"
   ]
  },
  {
   "cell_type": "code",
   "execution_count": 7,
   "id": "7264c6c3",
   "metadata": {},
   "outputs": [
    {
     "data": {
      "text/plain": [
       "4-element Vector{Int64}:\n",
       "  6\n",
       "  8\n",
       " 10\n",
       " 12"
      ]
     },
     "execution_count": 7,
     "metadata": {},
     "output_type": "execute_result"
    }
   ],
   "source": [
    "vec + vec2"
   ]
  },
  {
   "cell_type": "markdown",
   "id": "7b008286",
   "metadata": {},
   "source": [
    "**Spesielt nyttig når du har nested vektorer**"
   ]
  },
  {
   "cell_type": "code",
   "execution_count": 8,
   "id": "2e4cc1dd",
   "metadata": {},
   "outputs": [
    {
     "data": {
      "text/plain": [
       "2-element Vector{Vector{Int64}}:\n",
       " [1, 2, 3, 4]\n",
       " [4, 5, 6, 7]"
      ]
     },
     "execution_count": 8,
     "metadata": {},
     "output_type": "execute_result"
    }
   ],
   "source": [
    "nested_vec = [[1, 2, 3, 4], [4, 5, 6, 7]]"
   ]
  },
  {
   "cell_type": "code",
   "execution_count": 9,
   "id": "8f39abf3",
   "metadata": {},
   "outputs": [
    {
     "data": {
      "text/plain": [
       "4-element Vector{Int64}:\n",
       "  5\n",
       "  7\n",
       "  9\n",
       " 11"
      ]
     },
     "execution_count": 9,
     "metadata": {},
     "output_type": "execute_result"
    }
   ],
   "source": [
    "sum(nested_vec)"
   ]
  },
  {
   "cell_type": "code",
   "execution_count": 10,
   "id": "b2892f5e",
   "metadata": {},
   "outputs": [
    {
     "data": {
      "text/plain": [
       "2-element Vector{Int64}:\n",
       " 10\n",
       " 22"
      ]
     },
     "execution_count": 10,
     "metadata": {},
     "output_type": "execute_result"
    }
   ],
   "source": [
    "sum.(nested_vec)"
   ]
  },
  {
   "cell_type": "markdown",
   "id": "d442fed2",
   "metadata": {},
   "source": [
    "## Del 3:  Nyttige ting"
   ]
  },
  {
   "cell_type": "code",
   "execution_count": 11,
   "id": "d492115a",
   "metadata": {},
   "outputs": [
    {
     "data": {
      "text/plain": [
       "(8, 2)"
      ]
     },
     "execution_count": 11,
     "metadata": {},
     "output_type": "execute_result"
    }
   ],
   "source": [
    "# Multiple return verdier\n",
    "function compute(x, y)\n",
    "    sum = x + y\n",
    "    diff = x - y\n",
    "    return sum, diff\n",
    "end\n",
    "\n",
    "s, d = compute(5, 3)"
   ]
  },
  {
   "cell_type": "code",
   "execution_count": 12,
   "id": "d2851ade",
   "metadata": {},
   "outputs": [
    {
     "data": {
      "text/plain": [
       "5-element Vector{Int64}:\n",
       "  1\n",
       "  4\n",
       "  9\n",
       " 16\n",
       " 25"
      ]
     },
     "execution_count": 12,
     "metadata": {},
     "output_type": "execute_result"
    }
   ],
   "source": [
    "# List Comprehension\n",
    "squared = [x^2 for x in 1:5]"
   ]
  },
  {
   "cell_type": "code",
   "execution_count": 13,
   "id": "17866227",
   "metadata": {},
   "outputs": [
    {
     "data": {
      "text/plain": [
       "3-element Vector{Float64}:\n",
       " 0.25\n",
       " 0.4\n",
       " 0.5"
      ]
     },
     "execution_count": 13,
     "metadata": {},
     "output_type": "execute_result"
    }
   ],
   "source": [
    "# Bruke en funksjon som heter dividetwovectors definert i en annen fil \"myfunction.jl\"\n",
    "include(\"myfunction.jl\")\n",
    "\n",
    "# Følgende funksjon er definert i en myfunction.jl\n",
    "\"\"\"\n",
    "function dividetwovectors(a,b)\n",
    "    return a ./ b\n",
    "end\n",
    "\"\"\"\n",
    "\n",
    "dividetwovectors([1, 2, 3], [4, 5, 6])\n"
   ]
  },
  {
   "cell_type": "markdown",
   "id": "50d3aebd",
   "metadata": {},
   "source": [
    "## Gjett-tallet spill\n",
    "\n",
    "```julia\n",
    "\n",
    "# Importerer Random-biblioteket for å generere tilfeldige tall\n",
    "using Random\n",
    "\n",
    "function gjett_tallet(max_tall)\n",
    "    # Genererer et tilfeldig tall mellom 0 og max_tall\n",
    "    tilfeldig_tall = rand(0:max_tall)\n",
    "    \n",
    "    println(\"Jeg tenker på et tall mellom 0 og $max_tall. Kan du gjette hva det er?\")\n",
    "    \n",
    "    # Initialiserer en variabel for å holde styr på antall forsøk\n",
    "    antall_forsøk = 0\n",
    "    \n",
    "    while true # Starter en uendelig løkke\n",
    "        # Øker antall_forsøk med 1 for hver iterasjon\n",
    "        antall_forsøk += 1\n",
    "        \n",
    "        # Ber brukeren om å legge inn et gjetning\n",
    "        print(\"Din gjetning: \")\n",
    "        gjetning = parse(Int, readline())  # Konverterer inndata til heltall\n",
    "        \n",
    "        # Sjekker om gjetningen er korrekt\n",
    "        if gjetning == tilfeldig_tall\n",
    "            println(\"Gratulerer! Du gjettet riktig etter $antall_forsøk forsøk.\")\n",
    "            break  # Avslutter løkken\n",
    "        elseif gjetning < tilfeldig_tall\n",
    "            println(\"For lavt! Prøv igjen.\")\n",
    "        else\n",
    "            println(\"For høyt! Prøv igjen.\")\n",
    "        end\n",
    "    end\n",
    "end\n",
    "\n",
    "# Kaller funksjonen med maksimalt tall som 100\n",
    "gjett_tallet(100)\n",
    "\n",
    "```"
   ]
  }
 ],
 "metadata": {
  "kernelspec": {
   "display_name": "Julia 1.10.0",
   "language": "julia",
   "name": "julia-1.10"
  },
  "language_info": {
   "file_extension": ".jl",
   "mimetype": "application/julia",
   "name": "julia",
   "version": "1.10.0"
  }
 },
 "nbformat": 4,
 "nbformat_minor": 5
}