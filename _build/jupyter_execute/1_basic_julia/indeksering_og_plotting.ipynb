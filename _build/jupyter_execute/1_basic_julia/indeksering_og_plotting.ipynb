{
 "cells": [
  {
   "cell_type": "markdown",
   "id": "063b052b",
   "metadata": {},
   "source": [
    "# Indeksering, håndtering av lister, og plotting i Julia\n",
    "\n",
    "I denne notatboken vil vi utforske hvordan vi kan indeksere og håndtere lister (vektorer) i Julia, samt hvordan vi kan visualisere data ved hjelp av plotting."
   ]
  },
  {
   "cell_type": "markdown",
   "id": "1b11f94f",
   "metadata": {},
   "source": [
    "## Indeksering\n",
    "\n",
    "I Julia starter indeksering fra 1. La oss se på hvordan vi kan indeksere elementer i en liste:"
   ]
  },
  {
   "cell_type": "code",
   "execution_count": 1,
   "id": "6d751835",
   "metadata": {},
   "outputs": [
    {
     "name": "stdout",
     "output_type": "stream",
     "text": [
      "10\n",
      "50\n"
     ]
    }
   ],
   "source": [
    "liste = [10, 20, 30, 40, 50]\n",
    "println(liste[1])  # Første element\n",
    "println(liste[end])  # Siste element"
   ]
  },
  {
   "cell_type": "markdown",
   "id": "7b527e10",
   "metadata": {},
   "source": [
    "## Håndtering av lister\n",
    "\n",
    "La oss utforske noen grunnleggende operasjoner vi kan utføre på lister i Julia:"
   ]
  },
  {
   "cell_type": "code",
   "execution_count": 2,
   "id": "a37b1858",
   "metadata": {},
   "outputs": [
    {
     "data": {
      "text/plain": [
       "5-element Vector{Int64}:\n",
       " 10\n",
       " 20\n",
       " 30\n",
       " 40\n",
       " 50"
      ]
     },
     "execution_count": 2,
     "metadata": {},
     "output_type": "execute_result"
    }
   ],
   "source": [
    "# Legge til et element på slutten av listen\n",
    "push!(liste, 60)\n",
    "\n",
    "# Fjerne siste element fra listen\n",
    "pop!(liste)\n",
    "\n",
    "# Legge til et element på en bestemt posisjon\n",
    "insert!(liste, 3, 25)  # Legger til 25 på tredje posisjon\n",
    "\n",
    "# Fjerne et element fra en bestemt posisjon\n",
    "deleteat!(liste, 3)\n",
    "\n",
    "liste"
   ]
  },
  {
   "cell_type": "markdown",
   "id": "7a8c7417",
   "metadata": {},
   "source": [
    "## Plotting\n",
    "\n",
    "Julia har flere biblioteker for plotting, men vi vil bruke `Plots` for denne demonstrasjonen. La oss se på hvordan vi kan lage enkelte plott:"
   ]
  },
  {
   "cell_type": "code",
   "execution_count": 3,
   "id": "3afe84a9",
   "metadata": {},
   "outputs": [
    {
     "name": "stderr",
     "output_type": "stream",
     "text": [
      "\u001b[36m\u001b[1m[ \u001b[22m\u001b[39m\u001b[36m\u001b[1mInfo: \u001b[22m\u001b[39mPrecompiling Plots [91a5bcdd-55d7-5caf-9e0b-520d859cae80]\n"
     ]
    },
    {
     "ename": "LoadError",
     "evalue": "InterruptException:",
     "output_type": "error",
     "traceback": [
      "InterruptException:",
      "",
      "Stacktrace:",
      "  [1] try_yieldto(undo::typeof(Base.ensure_rescheduled))",
      "    @ Base .\\task.jl:920",
      "  [2] wait()",
      "    @ Base .\\task.jl:984",
      "  [3] wait(c::Base.GenericCondition{Base.Threads.SpinLock}; first::Bool)",
      "    @ Base .\\condition.jl:130",
      "  [4] wait",
      "    @ .\\condition.jl:125 [inlined]",
      "  [5] wait(x::Base.Process)",
      "    @ Base .\\process.jl:661",
      "  [6] success(x::Base.Process)",
      "    @ Base .\\process.jl:523",
      "  [7] compilecache(pkg::Base.PkgId, path::String, internal_stderr::IO, internal_stdout::IO, keep_loaded_modules::Bool)",
      "    @ Base .\\loading.jl:2203",
      "  [8] compilecache",
      "    @ .\\loading.jl:2167 [inlined]",
      "  [9] _require(pkg::Base.PkgId, env::String)",
      "    @ Base .\\loading.jl:1805",
      " [10] _require_prelocked(uuidkey::Base.PkgId, env::String)",
      "    @ Base .\\loading.jl:1660",
      " [11] macro expansion",
      "    @ .\\loading.jl:1648 [inlined]",
      " [12] macro expansion",
      "    @ .\\lock.jl:267 [inlined]",
      " [13] require(into::Module, mod::Symbol)",
      "    @ Base .\\loading.jl:1611"
     ]
    }
   ],
   "source": [
    "using Plots\n",
    "\n",
    "x = 1:10\n",
    "y = x.^2  # Kvadrerer hvert element i x\n",
    "\n",
    "plot(x, y, title=\"Enkel parabola\", xlabel=\"x-verdier\", ylabel=\"y-verdier\", legend=false)"
   ]
  },
  {
   "cell_type": "markdown",
   "id": "e2289ee4",
   "metadata": {},
   "source": [
    "## Oppsummering\n",
    "\n",
    "I denne notatboken har vi utforsket grunnleggende konsepter relatert til indeksering, håndtering av lister, og plotting i Julia. Disse konseptene er fundamentale for mange programmeringsoppgaver, så det er viktig å være komfortabel med dem. Fortsett å eksperimentere og utforske!"
   ]
  }
 ],
 "metadata": {
  "kernelspec": {
   "display_name": "Julia",
   "language": "julia",
   "name": "julia-1.9"
  },
  "language_info": {
   "file_extension": ".jl",
   "mimetype": "application/julia",
   "name": "julia",
   "version": "1.9.3"
  }
 },
 "nbformat": 4,
 "nbformat_minor": 5
}